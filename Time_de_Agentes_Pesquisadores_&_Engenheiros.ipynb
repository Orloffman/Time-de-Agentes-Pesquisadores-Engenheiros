{
  "nbformat": 4,
  "nbformat_minor": 0,
  "metadata": {
    "colab": {
      "provenance": [],
      "include_colab_link": true
    },
    "kernelspec": {
      "name": "python3",
      "display_name": "Python 3"
    },
    "language_info": {
      "name": "python"
    }
  },
  "cells": [
    {
      "cell_type": "markdown",
      "metadata": {
        "id": "view-in-github",
        "colab_type": "text"
      },
      "source": [
        "<a href=\"https://colab.research.google.com/github/Orloffman/Time-de-Agentes-Pesquisadores-Engenheiros/blob/main/Time_de_Agentes_Pesquisadores_%26_Engenheiros.ipynb\" target=\"_parent\"><img src=\"https://colab.research.google.com/assets/colab-badge.svg\" alt=\"Open In Colab\"/></a>"
      ]
    },
    {
      "cell_type": "code",
      "source": [
        "%pip -q install google-genai"
      ],
      "metadata": {
        "id": "UCCbECexLk_h"
      },
      "execution_count": null,
      "outputs": []
    },
    {
      "cell_type": "code",
      "source": [
        "# Configura a API Key do Google Gemini\n",
        "\n",
        "import os\n",
        "from google.colab import userdata\n",
        "\n",
        "os.environ[\"GOOGLE_API_KEY\"] = userdata.get('GOOGLE_API_KEY')"
      ],
      "metadata": {
        "id": "NfCqHo1tLk8P"
      },
      "execution_count": null,
      "outputs": []
    },
    {
      "cell_type": "code",
      "source": [
        "# Configura o cliente da SDK do Gemini\n",
        "\n",
        "from google import genai\n",
        "\n",
        "client = genai.Client()\n",
        "\n",
        "MODEL_ID = \"gemini-2.0-flash\""
      ],
      "metadata": {
        "id": "bV4w0H5TLk5g"
      },
      "execution_count": null,
      "outputs": []
    },
    {
      "cell_type": "code",
      "source": [
        "# Pergunta ao Gemini uma informação mais recente que seu conhecimento\n",
        "\n",
        "from IPython.display import HTML, Markdown\n",
        "\n",
        "# Perguntar pro modelo quando é a próxima imersão de IA ###############################################\n",
        "\n",
        "resposta = client.models.generate_content(\n",
        "    model=MODEL_ID,\n",
        "    contents='Quando é a próxima Imersão IA com Google Gemini da Alura?',\n",
        ")\n",
        "\n",
        "\n",
        "# Exibe a resposta na tela\n",
        "display(Markdown(f\"Resposta:\\n {resposta.text}\"))"
      ],
      "metadata": {
        "id": "HwVP7Xi34Zuw",
        "collapsed": true
      },
      "execution_count": null,
      "outputs": []
    },
    {
      "cell_type": "code",
      "source": [
        "# Pergunta ao Gemini uma informação utilizando a busca do Google como contexto\n",
        "\n",
        "response = client.models.generate_content(\n",
        "    model=MODEL_ID,\n",
        "    contents='Quando é a próxima Imersão IA com Google Gemini da Alura?',\n",
        "    config={\"tools\": [{\"google_search\": {}}]}\n",
        ")\n",
        "\n",
        "# Exibe a resposta na tela\n",
        "display(Markdown(f\"Resposta:\\n {response.text}\"))"
      ],
      "metadata": {
        "id": "yXaZd7iZ4ftw",
        "collapsed": true
      },
      "execution_count": null,
      "outputs": []
    },
    {
      "cell_type": "code",
      "source": [
        "# Exibe a busca\n",
        "print(f\"Busca realizada: {response.candidates[0].grounding_metadata.web_search_queries}\")\n",
        "# Exibe as URLs nas quais ele se baseou\n",
        "print(f\"Páginas utilizadas na resposta: {', '.join([site.web.title for site in response.candidates[0].grounding_metadata.grounding_chunks])}\")\n",
        "print()\n",
        "display(HTML(response.candidates[0].grounding_metadata.search_entry_point.rendered_content))"
      ],
      "metadata": {
        "id": "xHSNlTd84heJ",
        "collapsed": true
      },
      "execution_count": null,
      "outputs": []
    },
    {
      "cell_type": "code",
      "source": [
        "# Instalar Framework ADK de agentes do Google ################################################\n",
        "\n",
        "!pip install -q google-adk"
      ],
      "metadata": {
        "id": "hvZ3UnPI4jhJ",
        "collapsed": true
      },
      "execution_count": null,
      "outputs": []
    },
    {
      "cell_type": "code",
      "execution_count": null,
      "metadata": {
        "id": "aePV2bdfDeoW"
      },
      "outputs": [],
      "source": [
        "from google.adk.agents import Agent\n",
        "from google.adk.runners import Runner\n",
        "from google.adk.sessions import InMemorySessionService\n",
        "from google.adk.tools import google_search\n",
        "from google.genai import types  # Para criar conteúdos (Content e Part)\n",
        "from datetime import date\n",
        "import textwrap # Para formatar melhor a saída de texto\n",
        "from IPython.display import display, Markdown # Para exibir texto formatado no Colab\n",
        "import requests # Para fazer requisições HTTP\n",
        "import warnings\n",
        "\n",
        "warnings.filterwarnings(\"ignore\")"
      ]
    },
    {
      "cell_type": "code",
      "source": [
        "# Função auxiliar que envia uma mensagem para um agente via Runner e retorna a resposta final\n",
        "def call_agent(agent: Agent, message_text: str) -> str:\n",
        "    # Cria um serviço de sessão em memória\n",
        "    session_service = InMemorySessionService()\n",
        "    # Cria uma nova sessão (você pode personalizar os IDs conforme necessário)\n",
        "    session = session_service.create_session(app_name=agent.name, user_id=\"user1\", session_id=\"session1\")\n",
        "    # Cria um Runner para o agente\n",
        "    runner = Runner(agent=agent, app_name=agent.name, session_service=session_service)\n",
        "    # Cria o conteúdo da mensagem de entrada\n",
        "    content = types.Content(role=\"user\", parts=[types.Part(text=message_text)])\n",
        "\n",
        "    final_response = \"\"\n",
        "    # Itera assincronamente pelos eventos retornados durante a execução do agente\n",
        "    for event in runner.run(user_id=\"user1\", session_id=\"session1\", new_message=content):\n",
        "        if event.is_final_response():\n",
        "          for part in event.content.parts:\n",
        "            if part.text is not None:\n",
        "              final_response += part.text\n",
        "              final_response += \"\\n\"\n",
        "    return final_response"
      ],
      "metadata": {
        "id": "_xP4lWhsS5ko"
      },
      "execution_count": null,
      "outputs": []
    },
    {
      "cell_type": "code",
      "source": [
        "# Função auxiliar para exibir texto formatado em Markdown no Colab\n",
        "def to_markdown(text):\n",
        "  text = text.replace('•', '  *')\n",
        "  return Markdown(textwrap.indent(text, '> ', predicate=lambda _: True))"
      ],
      "metadata": {
        "id": "8dosiodaxfFR"
      },
      "execution_count": null,
      "outputs": []
    },
    {
      "cell_type": "code",
      "source": [
        "##########################################\n",
        "# --- Agente 1: Buscador de Artigos --- #\n",
        "##########################################\n",
        "\n",
        "def agente_buscador(topico, data_de_hoje):\n",
        "    buscador = Agent(\n",
        "        name=\"agente_buscador\",\n",
        "        model=\"gemini-2.5-flash-preview-04-17\",\n",
        "        instruction= \"\"\"\n",
        "Você é um assistente de pesquisa acadêmica. Sua tarefa é, a partir do tópico fornecido sobre um resíduo específico, utilizar a ferramenta de busca do Google (Google Search) para encontrar artigos científicos publicados nos últimos 10 anos.\n",
        "O foco da busca deve ser em:\n",
        "1.  Aplicações potenciais para o resíduo como matéria-prima para novos materiais.\n",
        "2.  Métodos de conversão ou processamento deste resíduo para gerar esses novos materiais.\n",
        "\n",
        "Selecione os 10 artigos mais relevantes com base no fator de impacto da revista e/ou no número de citações. Priorize artigos com maior impacto e citações; artigos com poucas citações podem ser menos confiáveis ou desatualizados.\n",
        "Artigos que você não consiga definir precisamente a aplicação devem ser desconsiderados e outro artigo deve ser buscado no lugar. Não queremos artigos que sem uma metodologia muito bem definida, desta forma, voce deve ser capaz de\n",
        "gerar insights sobre cada artigo analisado. Sem esta análise profunda, os passos posteriores serão profundamente prejudicados.\n",
        "\n",
        "Retorne uma lista contendo, para cada artigo selecionado:\n",
        "* Título\n",
        "* Descrição da aplicação proposta (qual produto está sendo desenvolvido)\n",
        "* Link para o artigo (DOI ou URL, se acessível pela busca)\n",
        "* Uma breve justificativa (1-2 frases) de por que este artigo é relevante para encontrar aplicações e métodos de processamento do resíduo.\n",
        "        \"\"\",\n",
        "        description = \"Agente que busca artigos no Google\",\n",
        "        tools=[google_search],\n",
        "    )\n",
        "\n",
        "\n",
        "    entrada_do_agente_buscador = f\"Tópico: {topico}\\nData de hoje: {data_de_hoje}\"\n",
        "\n",
        "    artigos = call_agent(buscador, entrada_do_agente_buscador)\n",
        "\n",
        "    return artigos\n",
        "    # Executa o agente"
      ],
      "metadata": {
        "id": "o8bqIfi_DyH8"
      },
      "execution_count": null,
      "outputs": []
    },
    {
      "cell_type": "code",
      "source": [
        "################################################\n",
        "# --- Agente 2: Planejador de posts --- #\n",
        "################################################\n",
        "def agente_planejador(topico, artigos):\n",
        "    planejador = Agent(\n",
        "        name=\"agente_planejador\",\n",
        "        model=\"gemini-2.5-flash-preview-04-17\",\n",
        "        # Inserir as instruções do Agente Planejador #################################################\n",
        "        instruction=\"\"\"\n",
        "\n",
        "Você é um pesquisador sênior com vasta experiência acadêmica no desenvolvimento de materiais inovadores a partir de resíduos. Seu papel é analisar detalhadamente cada um dos artigos fornecidos pelo agente_buscador.\n",
        "\n",
        "Para cada artigo:\n",
        "1.  Verifique se todas as informações fornecidas pelo agente buscador estão corretamente preenchidas. Caso contrário avise os artigos que estão com informações pendentes.\n",
        "2.  Detalhe ou busque utilizando o Google (google_search) a metodologia de processamento ou conversão do resíduo utilizada.\n",
        "3.  Identifique e liste explicitamente os principais parâmetros de processo (ex: temperatura, tempo, proporção de reagentes, tipo de catalisador, etc.) e seus valores ou faixas considerados eficientes ou ótimos no estudo.\n",
        "4.  Avalie a validade científica dos resultados e a confiabilidade geral do estudo.\n",
        "\n",
        "Se julgar que um artigo não é cientificamente sólido, relevante para o objetivo, ou confiável, indique claramente o motivo e não prossiga com a análise detalhada para este artigo específico. Foque nos artigos que considera válidos. Se necessário, você pode usar o Google Search para buscar informações contextuais sobre técnicas específicas mencionadas, mas o foco principal é a análise do conteúdo dos artigos fornecidos.\n",
        "\n",
        "Ao final, para cada artigo analisado e considerado válido, retorne um relatório conciso contendo:\n",
        "* Objetivo principal do estudo no artigo.\n",
        "* Resumo da metodologia de processamento/conversão.\n",
        "* Principais parâmetros de processo identificados e seus valores/faixas.\n",
        "* Principais resultados e conclusões do artigo.\n",
        "* Sua avaliação sobre a validade científica e relevância do artigo para o desenvolvimento de uma metodologia de laboratório.\n",
        "\n",
        "Por fim selecione até 2 aplicações que considerar a mais promissoras para desenvolvimento.\n",
        "Selecione 1 aplicação para ser um overdelivery em um projeto de pesquisa deste resíduo. Este overdelivery deverá ter uma prioridade de desenvolviemnto menor que as duas aplicações selecionadas.\n",
        "        \"\"\",\n",
        "        description=\"Agente que consolida as informações dos artigos \",\n",
        "        tools=[google_search]\n",
        "    )\n",
        "\n",
        "    entrada_do_agente_planejador = f\"Tópico:{topico}\\nArtigos: {artigos}\"\n",
        "    # Executa o agente\n",
        "    plano_pesquisado = call_agent(planejador, entrada_do_agente_planejador)\n",
        "    return plano_pesquisado"
      ],
      "metadata": {
        "id": "y3VO1uo5_ghO"
      },
      "execution_count": null,
      "outputs": []
    },
    {
      "cell_type": "code",
      "source": [
        "######################################\n",
        "# --- Agente 3: Redator do Procedimentos --- #\n",
        "######################################\n",
        "def agente_redator(topico, plano_pesquisado):\n",
        "    redator = Agent(\n",
        "        name=\"agente_redator\",\n",
        "        model=\"gemini-2.5-flash-preview-04-17\",\n",
        "        instruction=\"\"\"\n",
        "           Você é um professor universitário e pesquisador experiente, especialista em Engenharia de Materiais, Estatística Aplicada (DOE) e Inovação. Você já publicou centenas de artigos e sua tarefa é elaborar um plano experimental detalhado para testes em escala de laboratório, com base nas 3 aplicações selecionadas pelo Agente 2 (planejador).\n",
        "\n",
        "O plano deve ser escrito como um procedimento claro e passo a passo, adequado para alunos de iniciação científica com o apoio de técnicos de laboratório.\n",
        "\n",
        "Cada plano experimental deve incluir:\n",
        "1.  **Objetivo Geral do Experimento:** O que se pretende investigar ou validar com estes testes? (Ex: \"Avaliar a viabilidade da rota X para converter o resíduo Y no material Z e identificar os parâmetros de processo mais influentes em sua eficiência/qualidade\").\n",
        "2.  **Planejamento de Experimentos (DOE) Sugerido:**\n",
        "    * Com base nos parâmetros de processo e faixas identificados pelo agente_planejador, proponha um DOE inicial.\n",
        "    * Justifique a escolha do tipo de DOE (ex: fatorial exploratório de triagem, fatorial completo, otimização por superfície de resposta, ou um estudo de um fator por vez se a informação for muito preliminar).\n",
        "    * Defina claramente:\n",
        "        * Os fatores (variáveis independentes/parâmetros de processo) a serem estudados.\n",
        "        * Os níveis para cada fator (valores específicos ou faixas a serem testadas).\n",
        "        * As respostas (variáveis dependentes) a serem medidas para avaliar o resultado (ex: rendimento da conversão, pureza do material, propriedades mecânicas, etc.).\n",
        "    * Se os artigos sugerirem múltiplas rotas promissoras, você pode focar na mais recorrente/promissora ou, se pertinente, sugerir um plano principal e alternativas concisas.\n",
        "3.  **Procedimento Experimental Detalhado (formato de laboratório):**\n",
        "    * **Materiais e Reagentes:** Lista de todos os materiais, resíduos (com especificação de pré-tratamento, se houver), reagentes químicos (com grau de pureza), etc.\n",
        "    * **Equipamentos Necessários:** Lista dos equipamentos principais (reatores, fornos, agitadores, medidores, equipamentos de caracterização, etc.) e vidrarias.\n",
        "    * **Passo a Passo da Execução:** Instruções detalhadas para cada etapa do experimento, incluindo quantidades, sequências de adição, condições de processo (temperatura, tempo, agitação, atmosfera, etc.) para cada corrida experimental definida pelo DOE.\n",
        "    * **Coleta de Dados e Medições:** Como e quando coletar amostras, quais medições realizar e como quantificar os resultados (ex: \"pesar o produto seco\", \"realizar análise de [TÉCNICA] seguindo o procedimento ou norma aplicável\").\n",
        "\n",
        "4.  **Análise dos Resultados e Critérios de Sucesso:**\n",
        "    * Como os dados coletados serão analisados (ex: \"calcular o rendimento percentual\", \"comparar as propriedades do material com valores de referência\", \"análise estatística dos efeitos dos fatores no DOE\").\n",
        "    * Quais tipos de resultados indicariam sucesso, forneceriam insights valiosos ou direcionariam os próximos passos da pesquisa.\n",
        "\n",
        "            \"\"\",\n",
        "        description=\"Agente redator de procedimentos experimentais\",\n",
        "        tools=[google_search]\n",
        "    )\n",
        "    entrada_do_agente_redator = f\"Tópico: {topico}\\nPlano pesquisado: {plano_pesquisado}\"\n",
        "    # Executa o agente\n",
        "    rascunho = call_agent(redator, entrada_do_agente_redator)\n",
        "    return rascunho"
      ],
      "metadata": {
        "id": "uOqlg2TRLVh1"
      },
      "execution_count": null,
      "outputs": []
    },
    {
      "cell_type": "code",
      "source": [
        "##########################################\n",
        "# --- Agente 4: Revisor de Qualidade --- #\n",
        "##########################################\n",
        "def agente_revisor(topico, rascunho):\n",
        "    revisor = Agent(\n",
        "        name=\"agente_revisor\",\n",
        "        model=\"gemini-2.5-flash-preview-04-17\",\n",
        "        instruction=\"\"\"\n",
        "            Você é um Engenheiro de Processos sênior em uma empresa de P&D focada em transformar resíduos industriais em novos materiais. Sua prioridade é garantir que os processos sejam simples, padronizados, eficientes e escaláveis. A empresa atualmente realiza experimentos em escala de bancada, mas tem forte ambição de escalar as soluções desenvolvidas.\n",
        "\n",
        "Sua tarefa é revisar os planejamentos experimentais e o procedimentos de laboratório propostos pelo agente_redator. Avalie os seguintes aspectos:\n",
        "\n",
        "1.  **Executabilidade em Laboratório:**\n",
        "    * O procedimento é claro, completo e suficientemente detalhado para ser executado por alunos de IC com apoio técnico?\n",
        "    * Os equipamentos e materiais listados são comumente disponíveis ou razoavelmente acessíveis em um laboratório de pesquisa de materiais?\n",
        "    * Existem etapas excessivamente complexas, perigosas (além do razoável e sem mitigação clara) ou propensas a erros para uma escala de bancada?\n",
        "    * O plano permite a padronização e reprodutibilidade dos experimentos?\n",
        "\n",
        "2.  **Viabilidade de Escalonamento:**\n",
        "    * O processo proposto utiliza matérias-primas, reagentes ou condições que seriam proibitivamente caros, raros ou difíceis de manusear em escala industrial?\n",
        "    * Os equipamentos ou técnicas descritos para o laboratório têm análogos industriais viáveis?\n",
        "    * Identifique potenciais gargalos, desafios de segurança, ambientais ou de controle de qualidade que surgiriam ao tentar escalar este processo.\n",
        "    * Comente sobre a complexidade geral do processo em relação ao potencial de escalonamento e sua possível viabilidade financeira preliminar em maior escala (sem necessidade de cálculos detalhados, mas baseado em princípios de engenharia de processos).\n",
        "\n",
        "**Output:**\n",
        "* Se o planejamento e o procedimento forem considerados adequados, retorne-os com uma nota de aprovação, destacando seus pontos fortes para execução e escalabilidade.\n",
        "* Caso identifique problemas ou áreas de melhoria, aponte-os claramente e sugira modificações específicas no plano experimental ou no procedimento para torná-los mais práticos, seguros, padronizáveis ou com maior potencial de escalonamento.\n",
        "\n",
        "            \"\"\",\n",
        "        description=\"Agente revisor de planejamentos experimentais.\",\n",
        "        tools=[google_search]\n",
        "    )\n",
        "    entrada_do_agente_revisor = f\"Tópico: {topico}\\nRascunho: {rascunho}\"\n",
        "    # Executa o agente\n",
        "    texto_revisado = call_agent(revisor, entrada_do_agente_revisor)\n",
        "    return texto_revisado"
      ],
      "metadata": {
        "id": "_aTb1SdkLeT6"
      },
      "execution_count": null,
      "outputs": []
    },
    {
      "cell_type": "code",
      "source": [
        "data_de_hoje = date.today().strftime(\"%d/%m/%Y\")\n",
        "\n",
        "print(\"🚀 Iniciando o Sistema de busca de metodologias para experiemntos em laboratório com 4 Agentes 🚀\")\n",
        "\n",
        "# --- Obter o Tópico do Usuário ---\n",
        "topico = input(\"❓ Por favor, digite o resíduos sobre o qual você quer buscar metodologias para valorizar: \")\n",
        "\n",
        "# Inserir lógica do sistema de agentes ################################################\n",
        "\n",
        "\n",
        "if not topico:\n",
        "  print(\"Esqueceu de digitar o resíduo\")\n",
        "\n",
        "else:\n",
        "  print(f\"Vamos criar metodologias para trabalhar com {topico}\")\n",
        "\n",
        "  artigos = agente_buscador(topico, data_de_hoje)\n",
        "  print(\"\\n--- RESULTADO DO AGENTE 1 (BUSCADOR) ---\\n\")\n",
        "  display(to_markdown(artigos))\n",
        "  print(\"----------------------------------------------------------------------\")\n",
        "\n",
        "  plano_pesquisado = agente_planejador(topico, artigos)\n",
        "  print(\"\\n--- RESULTADO DO AGENTE 2 (PLANEJADOR) ---\\n\")\n",
        "  display(to_markdown(plano_pesquisado))\n",
        "  print(\"----------------------------------------------------------------------\")\n",
        "\n",
        "  rascunho = agente_redator(topico, plano_pesquisado)\n",
        "  print(\"\\n--- RESULTADO DO AGENTE 3 (REDATOR) ---\\n\")\n",
        "  display(to_markdown(rascunho))\n",
        "  print(\"----------------------------------------------------------------------\")\n",
        "\n",
        "  texto_revisado = agente_revisor(topico, rascunho)\n",
        "  print(\"\\n--- RESULTADO DO AGENTE 4 (REVISOR) ---\\n\")\n",
        "  display(to_markdown(texto_revisado))\n",
        "  print(\"----------------------------------------------------------------------\")\n",
        "\n"
      ],
      "metadata": {
        "id": "630ummxz4myx",
        "collapsed": true
      },
      "execution_count": null,
      "outputs": []
    },
    {
      "cell_type": "code",
      "source": [
        "# Juntando os resultados dos agentes\n",
        "\n",
        "doc_completo = f\"\"\"\n",
        "Parte 1: Resultados do Buscador\n",
        "\n",
        "{artigos}\n",
        "--------------------------------------------------------------------\n",
        "Parte 2: Resultados do Planejador\n",
        "\n",
        "{plano_pesquisado}\n",
        "--------------------------------------------------------------------\n",
        "Parte 3: Resultados do Redator\n",
        "\n",
        "{rascunho}\n",
        "--------------------------------------------------------------------\n",
        "Parte 4: Resultados do Revisor\n",
        "\n",
        "{texto_revisado}\n",
        "\n",
        "Fim do relatório\n",
        "\"\"\"\n",
        "\n",
        "  # Agora a variável texto_completo_para_documento contém tudo!\n",
        "display(to_markdown(doc_completo))\n"
      ],
      "metadata": {
        "collapsed": true,
        "id": "XdYgn1OD-rnQ"
      },
      "execution_count": null,
      "outputs": []
    },
    {
      "cell_type": "code",
      "source": [
        "!pip install markdown xhtml2pdf"
      ],
      "metadata": {
        "collapsed": true,
        "id": "gU60S2EjENhO"
      },
      "execution_count": null,
      "outputs": []
    },
    {
      "cell_type": "code",
      "source": [
        "import markdown\n",
        "from xhtml2pdf import pisa # Pisa é o componente da xhtml2pdf que faz a conversão\n",
        "# from google.colab import files # Para o download no final\n"
      ],
      "metadata": {
        "id": "x7CI5ZA1EbH_"
      },
      "execution_count": null,
      "outputs": []
    },
    {
      "cell_type": "code",
      "source": [
        "#Gerando um arquivo PDF\n",
        "\n",
        "#Instalar a biblioteca no Colab\n",
        "\n",
        "!pip install fpdf2"
      ],
      "metadata": {
        "collapsed": true,
        "id": "xh5UrQ6d_eNw"
      },
      "execution_count": null,
      "outputs": []
    },
    {
      "cell_type": "code",
      "source": [
        "texto_completo_markdown = doc_completo\n",
        "\n",
        "# Converter o texto Markdown para HTML\n",
        "html_content = markdown.markdown(texto_completo_markdown)\n",
        "\n",
        "# Função para converter HTML para PDF\n",
        "def convert_html_to_pdf(source_html, output_filename):\n",
        "    # Abrir o arquivo de saída em modo binário de escrita\n",
        "    with open(output_filename, \"w+b\") as result_file:\n",
        "        # Converter HTML para PDF\n",
        "        pisa_status = pisa.CreatePDF(\n",
        "                source_html,                # string de HTML\n",
        "                dest=result_file)           # objeto de arquivo\n",
        "\n",
        "    # Retorna true se a conversão foi bem-sucedida\n",
        "    return not pisa_status.err\n",
        "\n",
        "# Definir o nome do arquivo PDF de saída\n",
        "nome_arquivo_pdf_formatado = \"relatorio_agentes_formatado.pdf\"\n",
        "\n",
        "# Chamar a função de conversão\n",
        "success = convert_html_to_pdf(html_content, nome_arquivo_pdf_formatado)\n",
        "\n",
        "if success:\n",
        "    print(f\"Arquivo PDF '{nome_arquivo_pdf_formatado}' criado com sucesso com formatação!\")\n",
        "    # Para baixar o arquivo (descomente a linha abaixo e a importação de 'files' no início)\n",
        "    # from google.colab import files\n",
        "    # files.download(nome_arquivo_pdf_formatado)\n",
        "else:\n",
        "    print(\"Ocorreu um erro ao criar o PDF.\")"
      ],
      "metadata": {
        "id": "l7mfgOFRExSV"
      },
      "execution_count": null,
      "outputs": []
    },
    {
      "cell_type": "code",
      "source": [
        "from google.colab import files\n",
        "\n",
        "files.download(\"relatorio_agentes_formatado.pdf\")"
      ],
      "metadata": {
        "id": "0QUyfWukA1oW"
      },
      "execution_count": null,
      "outputs": []
    },
    {
      "cell_type": "code",
      "source": [
        "#Gerando um Arquivo Word (.docx)\n",
        "#Instalar a biblioteca no Colab\n",
        "!pip install python-docx"
      ],
      "metadata": {
        "collapsed": true,
        "id": "2YEsXAxnCFwB"
      },
      "execution_count": null,
      "outputs": []
    },
    {
      "cell_type": "code",
      "source": [
        "from google.colab import files\n",
        "\n",
        "files.download(\"relatorio_agentes_gemini.docx\")"
      ],
      "metadata": {
        "collapsed": true,
        "id": "NzPrC3dAC2yn"
      },
      "execution_count": null,
      "outputs": []
    },
    {
      "cell_type": "code",
      "source": [
        "#Convertendo Markdown para HTML e depois HTML para DOCX\n",
        "\n",
        "!pip install markdown html2docx\n",
        "\n"
      ],
      "metadata": {
        "collapsed": true,
        "id": "G_ONzxIWZqRw"
      },
      "execution_count": null,
      "outputs": []
    },
    {
      "cell_type": "code",
      "source": [
        "#Código para converter\n",
        "import markdown\n",
        "\n",
        "from html2docx import html2docx\n",
        "from docx import Document as PythonDocxDocument\n",
        "\n",
        "\n",
        "html_content = markdown.markdown(texto_completo_markdown, extensions=['extra'])\n",
        "\n",
        "docx_bytes_io = html2docx(html_content, title=\"Relatório Gerado\")\n",
        "\n",
        "nome_arquivo_word_html_formatado = \"relatorio_agentes_via_html.docx\"\n",
        "\n",
        "with open(nome_arquivo_word_html_formatado, \"wb\") as f:\n",
        "    f.write(docx_bytes_io.getvalue())\n",
        "\n",
        "print(f\"Arquivo Word '{nome_arquivo_word_html_formatado}' criado com sucesso via HTML!\")"
      ],
      "metadata": {
        "collapsed": true,
        "id": "PS_gg0lsZyUx"
      },
      "execution_count": null,
      "outputs": []
    },
    {
      "cell_type": "code",
      "source": [
        "from google.colab import files\n",
        "\n",
        "files.download(\"relatorio_agentes_via_html.docx\")"
      ],
      "metadata": {
        "id": "mWYEmxGQkBRa"
      },
      "execution_count": null,
      "outputs": []
    }
  ]
}